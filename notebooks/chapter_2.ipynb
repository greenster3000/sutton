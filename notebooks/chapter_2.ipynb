{
 "cells": [
  {
   "cell_type": "code",
   "execution_count": 1,
   "metadata": {},
   "outputs": [],
   "source": [
    "import pandas as pd\n",
    "import matplotlib.pyplot as plt\n",
    "from numpy import random"
   ]
  },
  {
   "cell_type": "markdown",
   "metadata": {},
   "source": [
    "Exercise 2.5 (programming) Design and conduct an experiment to demonstrate the\n",
    "diculties that sample-average methods have for nonstationary problems. Use a modified\n",
    "version of the 10-armed testbed in which all the $q_*(a)$ start out equal and then take\n",
    "independent random walks (say by adding a normally distributed increment with mean 0\n",
    "and standard deviation 0.01 to all the $q_*(a)$ on each step). Prepare plots like Figure 2.2\n",
    "for an action-value method using sample averages, incrementally computed, and another\n",
    "action-value method using a constant step-size parameter, $\\epsilon$ = 0.1. Use $\\alpha$ = 0.1 and\n",
    "longer runs, say of 10,000 steps."
   ]
  },
  {
   "cell_type": "code",
   "execution_count": 21,
   "metadata": {},
   "outputs": [],
   "source": [
    "EPSILON = 0.1\n",
    "ALPHA = 0.1\n",
    "STEPS = int(1e4)"
   ]
  },
  {
   "cell_type": "code",
   "execution_count": 106,
   "metadata": {},
   "outputs": [
    {
     "data": {
      "text/plain": [
       "<matplotlib.legend.Legend at 0x125ec9c40>"
      ]
     },
     "execution_count": 106,
     "metadata": {},
     "output_type": "execute_result"
    },
    {
     "data": {
      "image/png": "[encoded data removed]",
      "text/plain": [
       "<Figure size 432x288 with 1 Axes>"
      ]
     },
     "metadata": {
      "needs_background": "light"
     },
     "output_type": "display_data"
    }
   ],
   "source": [
    "bandit_means = [0] * 10\n",
    "\n",
    "Q_sa = [0] * 10\n",
    "N_sa = [0] * 10\n",
    "total_reward_sa = 0\n",
    "reward_history_sa = []\n",
    "\n",
    "Q_exp = [0] * 10\n",
    "N_exp = [0] * 10\n",
    "total_reward_exp = 0\n",
    "reward_history_exp = []\n",
    "\n",
    "for n in range(STEPS):\n",
    "    \n",
    "    # Sample Average Method\n",
    "    if random.random() < EPSILON:\n",
    "        action = random.randint(10)\n",
    "        R = random.normal(bandit_means[action], 1)\n",
    "    \n",
    "    else:\n",
    "        m = max(Q_sa)\n",
    "        action = [i for i, j in enumerate(Q_sa) if j == m]\n",
    "        action = random.choice(action)\n",
    "        R = random.normal(bandit_means[action], 1)\n",
    "    \n",
    "    total_reward_sa += R\n",
    "    reward_history_sa.append(total_reward_sa / (n + 1))\n",
    "    \n",
    "    # Update N and Q\n",
    "    N_sa[action] += 1\n",
    "    old_Q = Q_sa[action]\n",
    "    Q_sa[action] += (1 / N_sa[action]) * (R - old_Q)\n",
    "    \n",
    "    \n",
    "    # Constant step size\n",
    "    if random.random() < EPSILON:\n",
    "        action = random.randint(10)\n",
    "        R = random.normal(bandit_means[action], 1)\n",
    "        \n",
    "    else:\n",
    "        m = max(Q_exp)\n",
    "        action = [i for i, j in enumerate(Q_exp) if j == m]\n",
    "        action = random.choice(action)\n",
    "        R = random.normal(bandit_means[action], 1)\n",
    "    \n",
    "    N_exp[action] += 1\n",
    "    old_Q = Q_exp[action]\n",
    "    Q_exp[action] += ALPHA * (R - old_Q)\n",
    "    \n",
    "    total_reward_exp += R\n",
    "    reward_history_exp.append(total_reward_exp / (n + 1))\n",
    "    \n",
    "    # Randomly walk the means\n",
    "    bandit_means = [x + random.normal(0, 0.01) for x in bandit_means]\n",
    "    \n",
    "\n",
    "plt.plot(reward_history_sa, label=\"Sample Average Method\")\n",
    "plt.plot(reward_history_exp, label=\"Constant step-size\")\n",
    "plt.legend()"
   ]
  },
  {
   "cell_type": "code",
   "execution_count": null,
   "metadata": {},
   "outputs": [],
   "source": []
  }
 ],
 "metadata": {
  "kernelspec": {
   "display_name": "Python 3",
   "language": "python",
   "name": "python3"
  },
  "language_info": {
   "codemirror_mode": {
    "name": "ipython",
    "version": 3
   },
   "file_extension": ".py",
   "mimetype": "text/x-python",
   "name": "python",
   "nbconvert_exporter": "python",
   "pygments_lexer": "ipython3",
   "version": "3.8.6"
  }
 },
 "nbformat": 4,
 "nbformat_minor": 4
}
